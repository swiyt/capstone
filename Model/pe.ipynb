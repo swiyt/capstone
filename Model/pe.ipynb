{
  "cells": [
    {
      "cell_type": "code",
      "source": [
        "import pandas as pd\n",
        "import numpy as np\n",
        "df = pd.read_csv('data.csv', sep='|')"
      ],
      "metadata": {
        "id": "puc4kmNif-0k"
      },
      "execution_count": 10,
      "outputs": []
    },
    {
      "cell_type": "code",
      "source": [
        "df.columns\n",
        "df.info()\n"
      ],
      "metadata": {
        "id": "NgDRK1tagcJn",
        "outputId": "81a628c9-e669-48f9-b734-e760993b0367",
        "colab": {
          "base_uri": "https://localhost:8080/"
        }
      },
      "execution_count": 11,
      "outputs": [
        {
          "output_type": "stream",
          "name": "stdout",
          "text": [
            "<class 'pandas.core.frame.DataFrame'>\n",
            "RangeIndex: 138047 entries, 0 to 138046\n",
            "Data columns (total 57 columns):\n",
            " #   Column                       Non-Null Count   Dtype  \n",
            "---  ------                       --------------   -----  \n",
            " 0   Name                         138047 non-null  object \n",
            " 1   md5                          138047 non-null  object \n",
            " 2   Machine                      138047 non-null  int64  \n",
            " 3   SizeOfOptionalHeader         138047 non-null  int64  \n",
            " 4   Characteristics              138047 non-null  int64  \n",
            " 5   MajorLinkerVersion           138047 non-null  int64  \n",
            " 6   MinorLinkerVersion           138047 non-null  int64  \n",
            " 7   SizeOfCode                   138047 non-null  int64  \n",
            " 8   SizeOfInitializedData        138047 non-null  int64  \n",
            " 9   SizeOfUninitializedData      138047 non-null  int64  \n",
            " 10  AddressOfEntryPoint          138047 non-null  int64  \n",
            " 11  BaseOfCode                   138047 non-null  int64  \n",
            " 12  BaseOfData                   138047 non-null  int64  \n",
            " 13  ImageBase                    138047 non-null  float64\n",
            " 14  SectionAlignment             138047 non-null  int64  \n",
            " 15  FileAlignment                138047 non-null  int64  \n",
            " 16  MajorOperatingSystemVersion  138047 non-null  int64  \n",
            " 17  MinorOperatingSystemVersion  138047 non-null  int64  \n",
            " 18  MajorImageVersion            138047 non-null  int64  \n",
            " 19  MinorImageVersion            138047 non-null  int64  \n",
            " 20  MajorSubsystemVersion        138047 non-null  int64  \n",
            " 21  MinorSubsystemVersion        138047 non-null  int64  \n",
            " 22  SizeOfImage                  138047 non-null  int64  \n",
            " 23  SizeOfHeaders                138047 non-null  int64  \n",
            " 24  CheckSum                     138047 non-null  int64  \n",
            " 25  Subsystem                    138047 non-null  int64  \n",
            " 26  DllCharacteristics           138047 non-null  int64  \n",
            " 27  SizeOfStackReserve           138047 non-null  int64  \n",
            " 28  SizeOfStackCommit            138047 non-null  int64  \n",
            " 29  SizeOfHeapReserve            138047 non-null  int64  \n",
            " 30  SizeOfHeapCommit             138047 non-null  int64  \n",
            " 31  LoaderFlags                  138047 non-null  int64  \n",
            " 32  NumberOfRvaAndSizes          138047 non-null  int64  \n",
            " 33  SectionsNb                   138047 non-null  int64  \n",
            " 34  SectionsMeanEntropy          138047 non-null  float64\n",
            " 35  SectionsMinEntropy           138047 non-null  float64\n",
            " 36  SectionsMaxEntropy           138047 non-null  float64\n",
            " 37  SectionsMeanRawsize          138047 non-null  float64\n",
            " 38  SectionsMinRawsize           138047 non-null  int64  \n",
            " 39  SectionMaxRawsize            138047 non-null  int64  \n",
            " 40  SectionsMeanVirtualsize      138047 non-null  float64\n",
            " 41  SectionsMinVirtualsize       138047 non-null  int64  \n",
            " 42  SectionMaxVirtualsize        138047 non-null  int64  \n",
            " 43  ImportsNbDLL                 138047 non-null  int64  \n",
            " 44  ImportsNb                    138047 non-null  int64  \n",
            " 45  ImportsNbOrdinal             138047 non-null  int64  \n",
            " 46  ExportNb                     138047 non-null  int64  \n",
            " 47  ResourcesNb                  138047 non-null  int64  \n",
            " 48  ResourcesMeanEntropy         138047 non-null  float64\n",
            " 49  ResourcesMinEntropy          138047 non-null  float64\n",
            " 50  ResourcesMaxEntropy          138047 non-null  float64\n",
            " 51  ResourcesMeanSize            138047 non-null  float64\n",
            " 52  ResourcesMinSize             138047 non-null  int64  \n",
            " 53  ResourcesMaxSize             138047 non-null  int64  \n",
            " 54  LoadConfigurationSize        138047 non-null  int64  \n",
            " 55  VersionInformationSize       138047 non-null  int64  \n",
            " 56  legitimate                   138047 non-null  int64  \n",
            "dtypes: float64(10), int64(45), object(2)\n",
            "memory usage: 60.0+ MB\n"
          ]
        }
      ]
    },
    {
      "cell_type": "code",
      "source": [
        "df[\"legitimate\"].value_counts()"
      ],
      "metadata": {
        "id": "tumB7cELgguC",
        "outputId": "f9916dac-b2b0-4686-e836-efe6f53c0508",
        "colab": {
          "base_uri": "https://localhost:8080/",
          "height": 178
        }
      },
      "execution_count": 12,
      "outputs": [
        {
          "output_type": "execute_result",
          "data": {
            "text/plain": [
              "legitimate\n",
              "0    96724\n",
              "1    41323\n",
              "Name: count, dtype: int64"
            ],
            "text/html": [
              "<div>\n",
              "<style scoped>\n",
              "    .dataframe tbody tr th:only-of-type {\n",
              "        vertical-align: middle;\n",
              "    }\n",
              "\n",
              "    .dataframe tbody tr th {\n",
              "        vertical-align: top;\n",
              "    }\n",
              "\n",
              "    .dataframe thead th {\n",
              "        text-align: right;\n",
              "    }\n",
              "</style>\n",
              "<table border=\"1\" class=\"dataframe\">\n",
              "  <thead>\n",
              "    <tr style=\"text-align: right;\">\n",
              "      <th></th>\n",
              "      <th>count</th>\n",
              "    </tr>\n",
              "    <tr>\n",
              "      <th>legitimate</th>\n",
              "      <th></th>\n",
              "    </tr>\n",
              "  </thead>\n",
              "  <tbody>\n",
              "    <tr>\n",
              "      <th>0</th>\n",
              "      <td>96724</td>\n",
              "    </tr>\n",
              "    <tr>\n",
              "      <th>1</th>\n",
              "      <td>41323</td>\n",
              "    </tr>\n",
              "  </tbody>\n",
              "</table>\n",
              "</div><br><label><b>dtype:</b> int64</label>"
            ]
          },
          "metadata": {},
          "execution_count": 12
        }
      ]
    },
    {
      "cell_type": "code",
      "source": [
        "from sklearn.model_selection import train_test_split\n",
        "import sklearn.ensemble as ek\n",
        "from sklearn.feature_selection import SelectFromModel\n",
        "from sklearn.tree import DecisionTreeClassifier\n",
        "import joblib\n",
        "import pickle\n",
        "import os\n"
      ],
      "metadata": {
        "id": "_TcM_Nsyg_5H"
      },
      "execution_count": 16,
      "outputs": []
    },
    {
      "cell_type": "code",
      "source": [
        "X = df.drop(['Name','md5','legitimate'],axis=1).values\n",
        "y = df['legitimate'].values\n",
        "len(y)"
      ],
      "metadata": {
        "id": "qsOrhlW_hbOI",
        "outputId": "52e3176b-fa8a-4d95-ee28-3c11c585aa1e",
        "colab": {
          "base_uri": "https://localhost:8080/"
        }
      },
      "execution_count": 17,
      "outputs": [
        {
          "output_type": "execute_result",
          "data": {
            "text/plain": [
              "138047"
            ]
          },
          "metadata": {},
          "execution_count": 17
        }
      ]
    },
    {
      "cell_type": "code",
      "source": [
        "extratrees = ek.ExtraTreesClassifier().fit(X,y)"
      ],
      "metadata": {
        "id": "42WR_-OEh_HN"
      },
      "execution_count": 18,
      "outputs": []
    },
    {
      "cell_type": "code",
      "source": [
        "model = SelectFromModel(extratrees, prefit=True)\n",
        "X_new = model.transform(X)\n",
        "nbfeatures = X_new.shape[1]\n",
        "nbfeatures\n"
      ],
      "metadata": {
        "id": "sO-LQ5UXiJBK",
        "outputId": "f7746dc5-ba2b-4b19-b426-aec5e835fd12",
        "colab": {
          "base_uri": "https://localhost:8080/"
        }
      },
      "execution_count": 19,
      "outputs": [
        {
          "output_type": "execute_result",
          "data": {
            "text/plain": [
              "13"
            ]
          },
          "metadata": {},
          "execution_count": 19
        }
      ]
    },
    {
      "cell_type": "code",
      "source": [
        "X_train, X_test,y_train, y_test = train_test_split(X_new, y ,test_size=0.29, stratify = y)"
      ],
      "metadata": {
        "id": "phAr-JedidS1"
      },
      "execution_count": 20,
      "outputs": []
    },
    {
      "cell_type": "code",
      "source": [
        "features = []\n",
        "index = np.argsort(extratrees.feature_importances_)[::-1][:nbfeatures]\n",
        "for f in range(nbfeatures):\n",
        "  print(\"%d, feature %s (%f)\" % ((f+1), df.columns[2+index[f]], extratrees.feature_importances_[index[f]]))\n",
        "  features.append(df.columns[2+index[f]])"
      ],
      "metadata": {
        "id": "HQQDewnvit5l",
        "outputId": "cd0d5e99-7126-4ed5-e2ff-c319f800d122",
        "colab": {
          "base_uri": "https://localhost:8080/"
        }
      },
      "execution_count": 21,
      "outputs": [
        {
          "output_type": "stream",
          "name": "stdout",
          "text": [
            "1, feature DllCharacteristics (0.169490)\n",
            "2, feature Machine (0.124266)\n",
            "3, feature Characteristics (0.116258)\n",
            "4, feature VersionInformationSize (0.061396)\n",
            "5, feature Subsystem (0.059565)\n",
            "6, feature ImageBase (0.052604)\n",
            "7, feature MajorSubsystemVersion (0.049316)\n",
            "8, feature SectionsMaxEntropy (0.045296)\n",
            "9, feature ResourcesMaxEntropy (0.040200)\n",
            "10, feature SizeOfOptionalHeader (0.036104)\n",
            "11, feature ResourcesMinEntropy (0.029039)\n",
            "12, feature SizeOfStackReserve (0.023799)\n",
            "13, feature MajorOperatingSystemVersion (0.021980)\n"
          ]
        }
      ]
    },
    {
      "cell_type": "code",
      "source": [
        "model = {\n",
        "    \"DecisionTree\" : DecisionTreeClassifier(max_depth=10),\n",
        "    \"RandomForest\" : ek.RandomForestClassifier(n_estimators=50),\n",
        "}"
      ],
      "metadata": {
        "id": "cwKSWbHhixUh"
      },
      "execution_count": 22,
      "outputs": []
    },
    {
      "cell_type": "code",
      "source": [
        "results = {}\n",
        "for algo in model:\n",
        "  clf = model[algo]\n",
        "  clf.fit(X_train, y_train)\n",
        "  score = clf.score(X_test,y_test)\n",
        "  print(\"%s:  %s \" % (algo, score))\n",
        "  results[algo] = score\n"
      ],
      "metadata": {
        "id": "8mwDntb1kGXT",
        "outputId": "ca27d07e-616b-4d5a-a558-8fa2585a142f",
        "colab": {
          "base_uri": "https://localhost:8080/"
        }
      },
      "execution_count": 23,
      "outputs": [
        {
          "output_type": "stream",
          "name": "stdout",
          "text": [
            "DecisionTree:  0.9907578558225508 \n",
            "RandomForest:  0.9938802018284458 \n"
          ]
        }
      ]
    },
    {
      "cell_type": "code",
      "source": [
        "best = max(results, key=results.get)\n",
        "print(best)\n",
        "joblib.dump(model[best], 'Classifier.pkl')"
      ],
      "metadata": {
        "id": "cQYpckiikPHG",
        "outputId": "50b979b8-9cf0-41c4-ebad-85bf495657c6",
        "colab": {
          "base_uri": "https://localhost:8080/"
        }
      },
      "execution_count": 24,
      "outputs": [
        {
          "output_type": "stream",
          "name": "stdout",
          "text": [
            "RandomForest\n"
          ]
        },
        {
          "output_type": "execute_result",
          "data": {
            "text/plain": [
              "['Classifier.pkl']"
            ]
          },
          "metadata": {},
          "execution_count": 24
        }
      ]
    },
    {
      "cell_type": "code",
      "source": [
        "open('features.pkl', 'wb').write(pickle.dumps(features))\n",
        "clf = joblib.load('Classifier.pkl')\n",
        "features = pickle.loads(open(os.path.join('features.pkl'), 'rb').read())"
      ],
      "metadata": {
        "id": "gSSREXe6kV_r"
      },
      "execution_count": 25,
      "outputs": []
    }
  ],
  "metadata": {
    "colab": {
      "name": "Welcome To Colab",
      "provenance": []
    },
    "kernelspec": {
      "display_name": "Python 3",
      "name": "python3"
    }
  },
  "nbformat": 4,
  "nbformat_minor": 0
}